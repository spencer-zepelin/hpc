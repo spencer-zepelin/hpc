{
 "cells": [
  {
   "cell_type": "code",
   "execution_count": 114,
   "metadata": {},
   "outputs": [
    {
     "name": "stdout",
     "output_type": "stream",
     "text": [
      "1hybrid.sbatch           argonne_700k_10t.dat     pipe.c\r\n",
      "1pure.sbatch             bigger.dat               plotter.py\r\n",
      "2hybrid.sbatch           main.c                   serial.c\r\n",
      "2pure.sbatch             midway_big.sbatch        serial_test.dat\r\n",
      "4hybrid.sbatch           midway_big.sh            \u001b[34msrc_compare\u001b[m\u001b[m\r\n",
      "4pure.sbatch             midway_huge.sh           start_funcs.c\r\n",
      "8hybrid.sbatch           nbody.dat                test.dat\r\n",
      "8pure.sbatch             nbody_header.h           test2.dat\r\n",
      "Generate_Animation.ipynb nbody_par_1rank.dat      test3.dat\r\n",
      "Makefile                 parallel.c               test4.dat\r\n",
      "README.md                parallel_test.dat        utils.c\r\n"
     ]
    }
   ],
   "source": [
    "!ls"
   ]
  },
  {
   "cell_type": "code",
   "execution_count": 103,
   "metadata": {
    "collapsed": true
   },
   "outputs": [],
   "source": [
    "import numpy as np\n",
    "import matplotlib.pyplot as plt\n",
    "import matplotlib.animation as animation\n",
    "import mpl_toolkits.mplot3d.axes3d as p3"
   ]
  },
  {
   "cell_type": "code",
   "execution_count": 115,
   "metadata": {},
   "outputs": [
    {
     "name": "stdout",
     "output_type": "stream",
     "text": [
      "loading input file  argonne_700k_10t.dat  ...\n"
     ]
    }
   ],
   "source": [
    "# Set Endianness. If using a BG/Q Vesta big endian binary file, set to \"True\"\n",
    "BigEndian = True\n",
    "\n",
    "# Input file name\n",
    "fname = \"argonne_700k_10t.dat\"\n",
    "\n",
    "print(\"loading input file \", fname,\" ...\")\n",
    "\n",
    "# Opens input file\n",
    "f = open(fname, 'rb')"
   ]
  },
  {
   "cell_type": "code",
   "execution_count": 116,
   "metadata": {
    "collapsed": true
   },
   "outputs": [],
   "source": [
    "# Reads header info (nBodies, nIters)\n",
    "first_line = f.read(8) # We read two 4 bytes integers\n",
    "line = np.frombuffer(first_line, dtype=np.int32)\n",
    "if(BigEndian):\n",
    "    line = line.byteswap()"
   ]
  },
  {
   "cell_type": "code",
   "execution_count": 117,
   "metadata": {},
   "outputs": [
    {
     "name": "stdout",
     "output_type": "stream",
     "text": [
      "nBodies in file =  786432  Timesteps in file =  10\n"
     ]
    }
   ],
   "source": [
    "nBodies = int(line[0])\n",
    "timesteps = int(line[1])\n",
    "print(\"nBodies in file = \", nBodies, \" Timesteps in file = \", timesteps)"
   ]
  },
  {
   "cell_type": "code",
   "execution_count": 118,
   "metadata": {
    "collapsed": true
   },
   "outputs": [],
   "source": [
    "# Adjusts marker size based on number of bodies in problem\n",
    "marker = 1.0\n",
    "if (nBodies > 100 ):\n",
    "    marker = 0.5\n",
    "if (nBodies > 1000 ):\n",
    "    marker = 0.25\n",
    "if (nBodies > 5000 ):\n",
    "    marker = 0.1"
   ]
  },
  {
   "cell_type": "code",
   "execution_count": 119,
   "metadata": {
    "collapsed": true
   },
   "outputs": [],
   "source": [
    "# Allocations array to hold a timestep\n",
    "arr = np.empty(dtype=np.float64, shape=(nBodies,3))"
   ]
  },
  {
   "cell_type": "code",
   "execution_count": 120,
   "metadata": {
    "collapsed": true
   },
   "outputs": [],
   "source": [
    "# Reads initial conditions\n",
    "for i in range(nBodies):\n",
    "    line = f.read(24)\n",
    "    body = np.frombuffer(line, dtype=np.float64)\n",
    "    if(BigEndian):\n",
    "        body = body.byteswap()\n",
    "    arr[i,:] = body"
   ]
  },
  {
   "cell_type": "code",
   "execution_count": 121,
   "metadata": {
    "collapsed": true
   },
   "outputs": [],
   "source": [
    "# Create a 3D plot and initialize it with initial particle states\n",
    "fig, ax = plt.subplots()\n",
    "ax = p3.Axes3D(fig)\n",
    "points, = [],\n",
    "if (nBodies >= 10000 ):\n",
    "    # If we have a lot of bodies, only plot pixels\n",
    "    points, = ax.plot3D(arr[:,0], arr[:,1], arr[:,2], 'w,')\n",
    "else:\n",
    "    # For fewer bodies, use a larger marker size\n",
    "    points, = ax.plot3D(arr[:,0], arr[:,1], arr[:,2], 'wo', markersize=marker)"
   ]
  },
  {
   "cell_type": "code",
   "execution_count": 122,
   "metadata": {},
   "outputs": [
    {
     "data": {
      "text/plain": [
       "[]"
      ]
     },
     "execution_count": 122,
     "metadata": {},
     "output_type": "execute_result"
    }
   ],
   "source": [
    "# Plot Info\n",
    "# NOTE: you may want to adjust the boundaries based on your body intialization scheme\n",
    "bounds = 2.0\n",
    "ax.set_ylim(-bounds, bounds)\n",
    "ax.set_xlim(-bounds, bounds)\n",
    "ax.set_zlim3d(-bounds, bounds)\n",
    "ax.set_facecolor('xkcd:black')\n",
    "plt.axis('off')\n",
    "ax.grid(False)\n",
    "ax.set_xticks([])\n",
    "ax.set_yticks([])\n",
    "ax.set_zticks([])"
   ]
  },
  {
   "cell_type": "code",
   "execution_count": 123,
   "metadata": {
    "collapsed": true
   },
   "outputs": [],
   "source": [
    "# Function that will be called for each frame of the animation\n",
    "def update(data):\n",
    "    update.t += 1\n",
    "    print(\"Processing Time Step \", update.t)\n",
    "    # Reads a set of bodies into an array\n",
    "    arr = np.empty(dtype=np.float64, shape=(nBodies,3))\n",
    "    for i in range(nBodies):\n",
    "        line = f.read(24)\n",
    "        body = np.frombuffer(line, dtype=np.float64)\n",
    "        if(BigEndian):\n",
    "            body = body.byteswap()\n",
    "        arr[i,:] = body\n",
    "\n",
    "    points.set_xdata(arr[:,0])\n",
    "    points.set_ydata(arr[:,1])\n",
    "    points.set_3d_properties(arr[:,2]) # No set_zdata, se we use this\n",
    "\n",
    "    return points,"
   ]
  },
  {
   "cell_type": "code",
   "execution_count": 124,
   "metadata": {},
   "outputs": [
    {
     "name": "stdout",
     "output_type": "stream",
     "text": [
      "Processing Time Step  0\n",
      "Processing Time Step  1\n",
      "Processing Time Step  2\n",
      "Processing Time Step  3\n",
      "Processing Time Step  4\n",
      "Processing Time Step  5\n",
      "Processing Time Step  6\n",
      "Processing Time Step  7\n",
      "Processing Time Step  8\n"
     ]
    }
   ],
   "source": [
    "update.t = -1\n",
    "\n",
    "# Generate the animation\n",
    "ani = animation.FuncAnimation(fig, update, timesteps-2)\n",
    "\n",
    "# Save .mp4 of the animation\n",
    "# NOTE: Bitrate, resolution, and dpi may need to be adjusted\n",
    "ani.save('argonne_700k_10t.mp4', fps=60, bitrate=100000, extra_args=[\"-s\", \"2560x1440\"], dpi=400)\n",
    "#plt.show()"
   ]
  },
  {
   "cell_type": "code",
   "execution_count": 125,
   "metadata": {},
   "outputs": [
    {
     "name": "stdout",
     "output_type": "stream",
     "text": [
      "1hybrid.sbatch           argonne_700k_10t.mp4     plotter.py\r\n",
      "1pure.sbatch             bigger.dat               serial.c\r\n",
      "2hybrid.sbatch           main.c                   serial_test.dat\r\n",
      "2pure.sbatch             midway_big.sbatch        \u001b[34msrc_compare\u001b[m\u001b[m\r\n",
      "4hybrid.sbatch           midway_big.sh            start_funcs.c\r\n",
      "4pure.sbatch             midway_huge.sh           test.dat\r\n",
      "8hybrid.sbatch           nbody.dat                test2.dat\r\n",
      "8pure.sbatch             nbody_header.h           test3.dat\r\n",
      "Generate_Animation.ipynb nbody_par_1rank.dat      test4.dat\r\n",
      "Makefile                 parallel.c               utils.c\r\n",
      "README.md                parallel_test.dat\r\n",
      "argonne_700k_10t.dat     pipe.c\r\n"
     ]
    }
   ],
   "source": [
    "!ls"
   ]
  },
  {
   "cell_type": "code",
   "execution_count": null,
   "metadata": {
    "collapsed": true
   },
   "outputs": [],
   "source": []
  }
 ],
 "metadata": {
  "kernelspec": {
   "display_name": "Python 3",
   "language": "python",
   "name": "python3"
  },
  "language_info": {
   "codemirror_mode": {
    "name": "ipython",
    "version": 3
   },
   "file_extension": ".py",
   "mimetype": "text/x-python",
   "name": "python",
   "nbconvert_exporter": "python",
   "pygments_lexer": "ipython3",
   "version": "3.6.7"
  }
 },
 "nbformat": 4,
 "nbformat_minor": 2
}
