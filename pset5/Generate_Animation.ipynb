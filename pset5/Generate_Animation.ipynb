{
 "cells": [
  {
   "cell_type": "code",
   "execution_count": 48,
   "metadata": {},
   "outputs": [
    {
     "name": "stdout",
     "output_type": "stream",
     "text": [
      "1hybrid.sbatch              compare_data.ipynb\r\n",
      "1pure.sbatch                main.c\r\n",
      "2hybrid.sbatch              nbody.dat\r\n",
      "2pure.sbatch                nbody_header.h\r\n",
      "4hybrid.sbatch              nbody_par_1rank.dat\r\n",
      "4pure.sbatch                nbody_simulation.mp4\r\n",
      "8hybrid.sbatch              parallel.c\r\n",
      "8pure.sbatch                parallel_test.dat\r\n",
      "Generate_Animation.ipynb    pipe.c\r\n",
      "Makefile                    plotter.py\r\n",
      "README.md                   serial.c\r\n",
      "cmp_parallel.dat            serial_test.dat\r\n",
      "cmp_serial.dat              test.dat\r\n",
      "cmp_simulation_parallel.mp4 utils.c\r\n",
      "cmp_simulation_serial.mp4\r\n"
     ]
    }
   ],
   "source": [
    "!ls"
   ]
  },
  {
   "cell_type": "code",
   "execution_count": 49,
   "metadata": {
    "collapsed": true
   },
   "outputs": [],
   "source": [
    "import numpy as np\n",
    "import matplotlib.pyplot as plt\n",
    "import matplotlib.animation as animation\n",
    "import mpl_toolkits.mplot3d.axes3d as p3"
   ]
  },
  {
   "cell_type": "code",
   "execution_count": 50,
   "metadata": {},
   "outputs": [
    {
     "name": "stdout",
     "output_type": "stream",
     "text": [
      "loading input file  test.dat  ...\n"
     ]
    }
   ],
   "source": [
    "# Set Endianness. If using a BG/Q Vesta big endian binary file, set to \"True\"\n",
    "BigEndian = False\n",
    "\n",
    "# Input file name\n",
    "fname = \"test.dat\"\n",
    "\n",
    "print(\"loading input file \", fname,\" ...\")\n",
    "\n",
    "# Opens input file\n",
    "f = open(fname, 'rb')"
   ]
  },
  {
   "cell_type": "code",
   "execution_count": 51,
   "metadata": {
    "collapsed": true
   },
   "outputs": [],
   "source": [
    "# Reads header info (nBodies, nIters)\n",
    "first_line = f.read(8) # We read two 4 bytes integers\n",
    "line = np.frombuffer(first_line, dtype=np.int32)\n",
    "if(BigEndian):\n",
    "    line = line.byteswap()"
   ]
  },
  {
   "cell_type": "code",
   "execution_count": 52,
   "metadata": {},
   "outputs": [
    {
     "name": "stdout",
     "output_type": "stream",
     "text": [
      "nBodies in file =  1000  Timesteps in file =  200\n"
     ]
    }
   ],
   "source": [
    "nBodies = int(line[0])\n",
    "timesteps = int(line[1])\n",
    "print(\"nBodies in file = \", nBodies, \" Timesteps in file = \", timesteps)"
   ]
  },
  {
   "cell_type": "code",
   "execution_count": 53,
   "metadata": {
    "collapsed": true
   },
   "outputs": [],
   "source": [
    "# Adjusts marker size based on number of bodies in problem\n",
    "marker = 1.0\n",
    "if (nBodies > 100 ):\n",
    "    marker = 0.5\n",
    "if (nBodies > 1000 ):\n",
    "    marker = 0.25\n",
    "if (nBodies > 5000 ):\n",
    "    marker = 0.1"
   ]
  },
  {
   "cell_type": "code",
   "execution_count": 54,
   "metadata": {
    "collapsed": true
   },
   "outputs": [],
   "source": [
    "# Allocations array to hold a timestep\n",
    "arr = np.empty(dtype=np.float64, shape=(nBodies,3))"
   ]
  },
  {
   "cell_type": "code",
   "execution_count": 55,
   "metadata": {
    "collapsed": true
   },
   "outputs": [],
   "source": [
    "# Reads initial conditions\n",
    "for i in range(nBodies):\n",
    "    line = f.read(24)\n",
    "    body = np.frombuffer(line, dtype=np.float64)\n",
    "    if(BigEndian):\n",
    "        body = body.byteswap()\n",
    "    arr[i,:] = body"
   ]
  },
  {
   "cell_type": "code",
   "execution_count": 56,
   "metadata": {
    "collapsed": true
   },
   "outputs": [],
   "source": [
    "# Create a 3D plot and initialize it with initial particle states\n",
    "fig, ax = plt.subplots()\n",
    "ax = p3.Axes3D(fig)\n",
    "points, = [],\n",
    "if (nBodies >= 10000 ):\n",
    "    # If we have a lot of bodies, only plot pixels\n",
    "    points, = ax.plot3D(arr[:,0], arr[:,1], arr[:,2], 'w,')\n",
    "else:\n",
    "    # For fewer bodies, use a larger marker size\n",
    "    points, = ax.plot3D(arr[:,0], arr[:,1], arr[:,2], 'wo', markersize=marker)"
   ]
  },
  {
   "cell_type": "code",
   "execution_count": 57,
   "metadata": {},
   "outputs": [
    {
     "data": {
      "text/plain": [
       "[]"
      ]
     },
     "execution_count": 57,
     "metadata": {},
     "output_type": "execute_result"
    }
   ],
   "source": [
    "# Plot Info\n",
    "# NOTE: you may want to adjust the boundaries based on your body intialization scheme\n",
    "bounds = 2.0\n",
    "ax.set_ylim(-bounds, bounds)\n",
    "ax.set_xlim(-bounds, bounds)\n",
    "ax.set_zlim3d(-bounds, bounds)\n",
    "ax.set_facecolor('xkcd:black')\n",
    "plt.axis('off')\n",
    "ax.grid(False)\n",
    "ax.set_xticks([])\n",
    "ax.set_yticks([])\n",
    "ax.set_zticks([])"
   ]
  },
  {
   "cell_type": "code",
   "execution_count": 58,
   "metadata": {
    "collapsed": true
   },
   "outputs": [],
   "source": [
    "# Function that will be called for each frame of the animation\n",
    "def update(data):\n",
    "    update.t += 1\n",
    "    print(\"Processing Time Step \", update.t)\n",
    "    # Reads a set of bodies into an array\n",
    "    arr = np.empty(dtype=np.float64, shape=(nBodies,3))\n",
    "    for i in range(nBodies):\n",
    "        line = f.read(24)\n",
    "        body = np.frombuffer(line, dtype=np.float64)\n",
    "        if(BigEndian):\n",
    "            body = body.byteswap()\n",
    "        arr[i,:] = body\n",
    "\n",
    "    points.set_xdata(arr[:,0])\n",
    "    points.set_ydata(arr[:,1])\n",
    "    points.set_3d_properties(arr[:,2]) # No set_zdata, se we use this\n",
    "\n",
    "    return points,"
   ]
  },
  {
   "cell_type": "code",
   "execution_count": 59,
   "metadata": {},
   "outputs": [
    {
     "name": "stdout",
     "output_type": "stream",
     "text": [
      "Processing Time Step  0\n",
      "Processing Time Step  1\n",
      "Processing Time Step  2\n",
      "Processing Time Step  3\n",
      "Processing Time Step  4\n",
      "Processing Time Step  5\n",
      "Processing Time Step  6\n",
      "Processing Time Step  7\n",
      "Processing Time Step  8\n",
      "Processing Time Step  9\n",
      "Processing Time Step  10\n",
      "Processing Time Step  11\n",
      "Processing Time Step  12\n",
      "Processing Time Step  13\n",
      "Processing Time Step  14\n",
      "Processing Time Step  15\n",
      "Processing Time Step  16\n",
      "Processing Time Step  17\n",
      "Processing Time Step  18\n",
      "Processing Time Step  19\n",
      "Processing Time Step  20\n",
      "Processing Time Step  21\n",
      "Processing Time Step  22\n",
      "Processing Time Step  23\n",
      "Processing Time Step  24\n",
      "Processing Time Step  25\n",
      "Processing Time Step  26\n",
      "Processing Time Step  27\n",
      "Processing Time Step  28\n",
      "Processing Time Step  29\n",
      "Processing Time Step  30\n",
      "Processing Time Step  31\n",
      "Processing Time Step  32\n",
      "Processing Time Step  33\n",
      "Processing Time Step  34\n",
      "Processing Time Step  35\n",
      "Processing Time Step  36\n",
      "Processing Time Step  37\n",
      "Processing Time Step  38\n",
      "Processing Time Step  39\n",
      "Processing Time Step  40\n",
      "Processing Time Step  41\n",
      "Processing Time Step  42\n",
      "Processing Time Step  43\n",
      "Processing Time Step  44\n",
      "Processing Time Step  45\n",
      "Processing Time Step  46\n",
      "Processing Time Step  47\n",
      "Processing Time Step  48\n",
      "Processing Time Step  49\n",
      "Processing Time Step  50\n",
      "Processing Time Step  51\n",
      "Processing Time Step  52\n",
      "Processing Time Step  53\n",
      "Processing Time Step  54\n",
      "Processing Time Step  55\n",
      "Processing Time Step  56\n",
      "Processing Time Step  57\n",
      "Processing Time Step  58\n",
      "Processing Time Step  59\n",
      "Processing Time Step  60\n",
      "Processing Time Step  61\n",
      "Processing Time Step  62\n",
      "Processing Time Step  63\n",
      "Processing Time Step  64\n",
      "Processing Time Step  65\n",
      "Processing Time Step  66\n",
      "Processing Time Step  67\n",
      "Processing Time Step  68\n",
      "Processing Time Step  69\n",
      "Processing Time Step  70\n",
      "Processing Time Step  71\n",
      "Processing Time Step  72\n",
      "Processing Time Step  73\n",
      "Processing Time Step  74\n",
      "Processing Time Step  75\n",
      "Processing Time Step  76\n",
      "Processing Time Step  77\n",
      "Processing Time Step  78\n",
      "Processing Time Step  79\n",
      "Processing Time Step  80\n",
      "Processing Time Step  81\n",
      "Processing Time Step  82\n",
      "Processing Time Step  83\n",
      "Processing Time Step  84\n",
      "Processing Time Step  85\n",
      "Processing Time Step  86\n",
      "Processing Time Step  87\n",
      "Processing Time Step  88\n",
      "Processing Time Step  89\n",
      "Processing Time Step  90\n",
      "Processing Time Step  91\n",
      "Processing Time Step  92\n",
      "Processing Time Step  93\n",
      "Processing Time Step  94\n",
      "Processing Time Step  95\n",
      "Processing Time Step  96\n",
      "Processing Time Step  97\n",
      "Processing Time Step  98\n",
      "Processing Time Step  99\n",
      "Processing Time Step  100\n",
      "Processing Time Step  101\n",
      "Processing Time Step  102\n",
      "Processing Time Step  103\n",
      "Processing Time Step  104\n",
      "Processing Time Step  105\n",
      "Processing Time Step  106\n",
      "Processing Time Step  107\n",
      "Processing Time Step  108\n",
      "Processing Time Step  109\n",
      "Processing Time Step  110\n",
      "Processing Time Step  111\n",
      "Processing Time Step  112\n",
      "Processing Time Step  113\n",
      "Processing Time Step  114\n",
      "Processing Time Step  115\n",
      "Processing Time Step  116\n",
      "Processing Time Step  117\n",
      "Processing Time Step  118\n",
      "Processing Time Step  119\n",
      "Processing Time Step  120\n",
      "Processing Time Step  121\n",
      "Processing Time Step  122\n",
      "Processing Time Step  123\n",
      "Processing Time Step  124\n",
      "Processing Time Step  125\n",
      "Processing Time Step  126\n",
      "Processing Time Step  127\n",
      "Processing Time Step  128\n",
      "Processing Time Step  129\n",
      "Processing Time Step  130\n",
      "Processing Time Step  131\n",
      "Processing Time Step  132\n",
      "Processing Time Step  133\n",
      "Processing Time Step  134\n",
      "Processing Time Step  135\n",
      "Processing Time Step  136\n",
      "Processing Time Step  137\n",
      "Processing Time Step  138\n",
      "Processing Time Step  139\n",
      "Processing Time Step  140\n",
      "Processing Time Step  141\n",
      "Processing Time Step  142\n",
      "Processing Time Step  143\n",
      "Processing Time Step  144\n",
      "Processing Time Step  145\n",
      "Processing Time Step  146\n",
      "Processing Time Step  147\n",
      "Processing Time Step  148\n",
      "Processing Time Step  149\n",
      "Processing Time Step  150\n",
      "Processing Time Step  151\n",
      "Processing Time Step  152\n",
      "Processing Time Step  153\n",
      "Processing Time Step  154\n",
      "Processing Time Step  155\n",
      "Processing Time Step  156\n",
      "Processing Time Step  157\n",
      "Processing Time Step  158\n",
      "Processing Time Step  159\n",
      "Processing Time Step  160\n",
      "Processing Time Step  161\n",
      "Processing Time Step  162\n",
      "Processing Time Step  163\n",
      "Processing Time Step  164\n",
      "Processing Time Step  165\n",
      "Processing Time Step  166\n",
      "Processing Time Step  167\n",
      "Processing Time Step  168\n",
      "Processing Time Step  169\n",
      "Processing Time Step  170\n",
      "Processing Time Step  171\n",
      "Processing Time Step  172\n",
      "Processing Time Step  173\n",
      "Processing Time Step  174\n",
      "Processing Time Step  175\n",
      "Processing Time Step  176\n",
      "Processing Time Step  177\n",
      "Processing Time Step  178\n",
      "Processing Time Step  179\n",
      "Processing Time Step  180\n",
      "Processing Time Step  181\n",
      "Processing Time Step  182\n",
      "Processing Time Step  183\n",
      "Processing Time Step  184\n",
      "Processing Time Step  185\n",
      "Processing Time Step  186\n",
      "Processing Time Step  187\n",
      "Processing Time Step  188\n",
      "Processing Time Step  189\n",
      "Processing Time Step  190\n",
      "Processing Time Step  191\n",
      "Processing Time Step  192\n",
      "Processing Time Step  193\n",
      "Processing Time Step  194\n",
      "Processing Time Step  195\n",
      "Processing Time Step  196\n",
      "Processing Time Step  197\n",
      "Processing Time Step  198\n"
     ]
    }
   ],
   "source": [
    "update.t = -1\n",
    "\n",
    "# Generate the animation\n",
    "ani = animation.FuncAnimation(fig, update, timesteps-2)\n",
    "\n",
    "# Save .mp4 of the animation\n",
    "# NOTE: Bitrate, resolution, and dpi may need to be adjusted\n",
    "ani.save('cmp_simulation_serial.mp4', fps=60, bitrate=100000, extra_args=[\"-s\", \"2560x1440\"], dpi=400)\n",
    "#plt.show()"
   ]
  },
  {
   "cell_type": "code",
   "execution_count": 37,
   "metadata": {},
   "outputs": [
    {
     "name": "stdout",
     "output_type": "stream",
     "text": [
      "Makefile                    nbody_header.h\r\n",
      "README.md                   nbody_par_1rank.dat\r\n",
      "Untitled.ipynb              nbody_simulation.mp4\r\n",
      "cmp_parallel.dat            parallel.c\r\n",
      "cmp_serial.dat              pipe.c\r\n",
      "cmp_simulation_parallel.mp4 plotter.py\r\n",
      "main.c                      serial.c\r\n",
      "nbody.dat                   utils.c\r\n"
     ]
    }
   ],
   "source": [
    "!ls"
   ]
  },
  {
   "cell_type": "code",
   "execution_count": null,
   "metadata": {
    "collapsed": true
   },
   "outputs": [],
   "source": []
  }
 ],
 "metadata": {
  "kernelspec": {
   "display_name": "Python 3",
   "language": "python",
   "name": "python3"
  },
  "language_info": {
   "codemirror_mode": {
    "name": "ipython",
    "version": 3
   },
   "file_extension": ".py",
   "mimetype": "text/x-python",
   "name": "python",
   "nbconvert_exporter": "python",
   "pygments_lexer": "ipython3",
   "version": "3.6.7"
  }
 },
 "nbformat": 4,
 "nbformat_minor": 2
}
