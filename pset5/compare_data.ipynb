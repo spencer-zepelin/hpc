{
 "cells": [
  {
   "cell_type": "code",
   "execution_count": 16,
   "metadata": {},
   "outputs": [
    {
     "name": "stdout",
     "output_type": "stream",
     "text": [
      "All divergence within acceptable limits.\n"
     ]
    }
   ],
   "source": [
    "import numpy as np\n",
    "\n",
    "\"\"\"\n",
    "Tests were performed on the Broadwl partition on Midway with the following commands\n",
    "\n",
    "128 bodies over 10 timesteps of length 0.1\n",
    "Parallel was run over 4 ranks with each rank running 2 OMP threads\n",
    "\n",
    "parallel:\n",
    "mpiexec -n 4 ./nbody_parallel 128 10 0.1 2\n",
    "\n",
    "serial:\n",
    "./nbody_serial 128 10 0.1 1\n",
    "\n",
    "\"\"\"\n",
    "\n",
    "# Test files\n",
    "serial_file = \"serial_test.dat\"\n",
    "parallel_file = \"parallel_test.dat\"\n",
    "\n",
    "# Open input files\n",
    "fs = open(serial_file, 'rb')\n",
    "fp = open(parallel_file, 'rb')\n",
    "\n",
    "# Read headers\n",
    "first_line = fs.read(8)\n",
    "line = np.frombuffer(first_line, dtype=np.int32)\n",
    "s_nBodies = int(line[0])\n",
    "s_timesteps = int(line[1])\n",
    "\n",
    "first_line = fp.read(8)\n",
    "line = np.frombuffer(first_line, dtype=np.int32)\n",
    "p_nBodies = int(line[0])\n",
    "p_timesteps = int(line[1])\n",
    "\n",
    "# Ensure headers identical\n",
    "assert (s_nBodies == p_nBodies), \"Headers differ\"\n",
    "assert (s_timesteps == p_timesteps), \"Headers differ\"\n",
    "\n",
    "total_entries = s_nBodies * s_timesteps\n",
    "\n",
    "acceptable_error = 1.0e-10\n",
    "\n",
    "# Loop through each body at every timestep\n",
    "for i in range(total_entries):\n",
    "    s_line = fs.read(24)\n",
    "    p_line = fp.read(24)\n",
    "    s_body = np.frombuffer(s_line, dtype=np.float64)\n",
    "    p_body = np.frombuffer(s_line, dtype=np.float64)\n",
    "    \n",
    "    # Assert that serial version of body differs from parallel version by less than acceptable error\n",
    "    for j in range(3):\n",
    "        assert( abs(s_body[j] - p_body[j]) < acceptable_error), \"Data diverges unacceptably\"\n",
    "\n",
    "# If an assertion error hasn't been thrown, print success message\n",
    "print(\"All divergence within acceptable limits.\")\n",
    "fs.close()\n",
    "fp.close()"
   ]
  },
  {
   "cell_type": "code",
   "execution_count": null,
   "metadata": {
    "collapsed": true
   },
   "outputs": [],
   "source": []
  }
 ],
 "metadata": {
  "kernelspec": {
   "display_name": "Python 3",
   "language": "python",
   "name": "python3"
  },
  "language_info": {
   "codemirror_mode": {
    "name": "ipython",
    "version": 3
   },
   "file_extension": ".py",
   "mimetype": "text/x-python",
   "name": "python",
   "nbconvert_exporter": "python",
   "pygments_lexer": "ipython3",
   "version": "3.6.7"
  }
 },
 "nbformat": 4,
 "nbformat_minor": 2
}
